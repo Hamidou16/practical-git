{
 "cells": [
  {
   "cell_type": "markdown",
   "metadata": {},
   "source": [
    "# How to use Git and Git Workflows"
   ]
  },
  {
   "cell_type": "markdown",
   "metadata": {},
   "source": [
    "## How to install Git and set up a Github account\n",
    "\n",
    "- [install Git](https://git-scm.com/book/en/v2/Getting-Started-Installing-Git)\n",
    "\n",
    "- Sign up for a [Github account](https://github.com/join)"
   ]
  },
  {
   "cell_type": "markdown",
   "metadata": {},
   "source": [
    "## Create a new repository in Github\n",
    "\n",
    "- Create a new repository in Github.\n",
    "\n",
    "- Just click \"New\" repository button on your home page.\n",
    "\n",
    "- Next, choose a name for the repository and whether you want the repo to be public or private.\n",
    "\n",
    "- You can additionally add a README file if you'd like, and then click \"Create repository\"."
   ]
  },
  {
   "cell_type": "markdown",
   "metadata": {},
   "source": [
    "## Clone a Git repository\n",
    "\n",
    "- To clone a repo, we use `git clone <URL>`"
   ]
  },
  {
   "cell_type": "code",
   "execution_count": 1,
   "metadata": {
    "tags": []
   },
   "outputs": [
    {
     "output_type": "stream",
     "name": "stdout",
     "text": "Cloning into 'practical-git'...\nremote: Enumerating objects: 3, done.\u001b[K\nremote: Counting objects: 100% (3/3), done.\u001b[K\nremote: Total 3 (delta 0), reused 0 (delta 0), pack-reused 0\u001b[K\nUnpacking objects: 100% (3/3), done.\n"
    }
   ],
   "source": [
    "!git clone https://github.com/Hamidou16/practical-git.git"
   ]
  },
  {
   "cell_type": "markdown",
   "metadata": {},
   "source": [
    "## Check the status of a Git project"
   ]
  },
  {
   "cell_type": "code",
   "execution_count": 1,
   "metadata": {
    "tags": []
   },
   "outputs": [
    {
     "output_type": "stream",
     "name": "stdout",
     "text": "On branch main\nYour branch is up to date with 'origin/main'.\n\nUntracked files:\n  (use \"git add <file>...\" to include in what will be committed)\n\t\u001b[31mpractical-git.ipynb\u001b[m\n\nnothing added to commit but untracked files present (use \"git add\" to track)\n"
    }
   ],
   "source": [
    "!git status"
   ]
  },
  {
   "cell_type": "markdown",
   "metadata": {},
   "source": [
    "## Git branches\n",
    "\n",
    "- The `main` means that we are currently on a **branch** called *main*\n",
    "    - `origin` is a concept known as a **remote**\n",
    "\n",
    "- In this project, we have our local copy of the project, we can also add remote sources that we can collaborate with. After all, that is one of the beiggest benefits of Git: **controlled collaboration with others.\n",
    "\n",
    "- In this case, GitHub is our \"origin\":\n",
    "    - By running `git remote -v`, we list all our remotes."
   ]
  },
  {
   "cell_type": "code",
   "execution_count": 2,
   "metadata": {
    "tags": []
   },
   "outputs": [
    {
     "output_type": "stream",
     "name": "stdout",
     "text": "origin\thttps://github.com/Hamidou16/practical-git.git (fetch)\norigin\thttps://github.com/Hamidou16/practical-git.git (push)\n"
    }
   ],
   "source": [
    "!git remote -v "
   ]
  },
  {
   "cell_type": "markdown",
   "metadata": {},
   "source": [
    "## Our first commit\n",
    "\n",
    "Let's make a new file called *chapter-1.txt* and insert a sentence into it."
   ]
  },
  {
   "cell_type": "code",
   "execution_count": 3,
   "metadata": {},
   "outputs": [],
   "source": [
    "!touch chapter-1.txt"
   ]
  },
  {
   "cell_type": "code",
   "execution_count": 4,
   "metadata": {},
   "outputs": [],
   "source": [
    "!echo \"Chapter 1 - The Beginning\" >> chapter-1.txt"
   ]
  },
  {
   "cell_type": "code",
   "execution_count": 5,
   "metadata": {
    "tags": []
   },
   "outputs": [
    {
     "output_type": "stream",
     "name": "stdout",
     "text": "Chapter 1 - The Beginning\n"
    }
   ],
   "source": [
    "!cat chapter-1.txt"
   ]
  },
  {
   "cell_type": "code",
   "execution_count": 6,
   "metadata": {
    "tags": []
   },
   "outputs": [
    {
     "output_type": "stream",
     "name": "stdout",
     "text": "On branch main\nYour branch is up to date with 'origin/main'.\n\nUntracked files:\n  (use \"git add <file>...\" to include in what will be committed)\n\t\u001b[31mchapter-1.txt\u001b[m\n\t\u001b[31mpractical-git.ipynb\u001b[m\n\nnothing added to commit but untracked files present (use \"git add\" to track)\n"
    }
   ],
   "source": [
    "!git status"
   ]
  },
  {
   "cell_type": "markdown",
   "metadata": {},
   "source": [
    "Before Git will start tracking changes to a file we first have to tell Git to track it.\n",
    "\n",
    "We can use `git add`."
   ]
  },
  {
   "cell_type": "code",
   "execution_count": 7,
   "metadata": {},
   "outputs": [],
   "source": [
    "!git add . "
   ]
  },
  {
   "cell_type": "code",
   "execution_count": 8,
   "metadata": {
    "tags": []
   },
   "outputs": [
    {
     "output_type": "stream",
     "name": "stdout",
     "text": "On branch main\nYour branch is up to date with 'origin/main'.\n\nChanges to be committed:\n  (use \"git restore --staged <file>...\" to unstage)\n\t\u001b[32mnew file:   chapter-1.txt\u001b[m\n\t\u001b[32mnew file:   practical-git.ipynb\u001b[m\n\n"
    }
   ],
   "source": [
    "!git status"
   ]
  },
  {
   "cell_type": "markdown",
   "metadata": {},
   "source": [
    "It now says that we have some changes that are ready to be \"commited\".\n",
    "\n",
    "A **commit** in Git is a saved chunk of work. We can think of a commit as a *completed idea or unit of work*."
   ]
  },
  {
   "cell_type": "code",
   "execution_count": 9,
   "metadata": {
    "tags": []
   },
   "outputs": [
    {
     "output_type": "stream",
     "name": "stdout",
     "text": "[main 53ddfba] New chapter 1 file with chapter heading\n 1 file changed, 1 insertion(+)\n create mode 100644 chapter-1.txt\n"
    }
   ],
   "source": [
    "!git commit -m \"New chapter 1 file with chapter heading\" chapter-1.txt"
   ]
  },
  {
   "cell_type": "code",
   "execution_count": 10,
   "metadata": {
    "tags": []
   },
   "outputs": [
    {
     "output_type": "stream",
     "name": "stdout",
     "text": "On branch main\nYour branch is ahead of 'origin/main' by 1 commit.\n  (use \"git push\" to publish your local commits)\n\nChanges to be committed:\n  (use \"git restore --staged <file>...\" to unstage)\n\t\u001b[32mnew file:   practical-git.ipynb\u001b[m\n\n"
    }
   ],
   "source": [
    "!git status"
   ]
  },
  {
   "cell_type": "markdown",
   "metadata": {},
   "source": [
    "We've now committed that chunk of work, and we can see that by reviewing the Git log via `git log`."
   ]
  },
  {
   "cell_type": "code",
   "execution_count": 11,
   "metadata": {
    "tags": []
   },
   "outputs": [
    {
     "output_type": "stream",
     "name": "stdout",
     "text": "\u001b[33mcommit 53ddfba68acc2816b5413c883b623e271084bcee\u001b[m\u001b[33m (\u001b[m\u001b[1;36mHEAD -> \u001b[m\u001b[1;32mmain\u001b[m\u001b[33m)\u001b[m\nAuthor: KONATE HAMIDOU <hamidou.konate@ymail.com>\nDate:   Wed Apr 7 09:42:52 2021 +0900\n\n    New chapter 1 file with chapter heading\n\n\u001b[33mcommit 569e2bec0c75cb81d1de3425239ff463432e4133\u001b[m\u001b[33m (\u001b[m\u001b[1;31morigin/main\u001b[m\u001b[33m, \u001b[m\u001b[1;31morigin/HEAD\u001b[m\u001b[33m)\u001b[m\nAuthor: KONATE HAMIDOU <hamidou.konate@ymail.com>\nDate:   Wed Apr 7 08:14:44 2021 +0900\n\n    Initial commit\n"
    }
   ],
   "source": [
    "!git log"
   ]
  },
  {
   "cell_type": "markdown",
   "metadata": {},
   "source": [
    "- The latest commit is the one we just made.\n",
    "- The previous one is when I initialized the project"
   ]
  },
  {
   "cell_type": "markdown",
   "metadata": {},
   "source": [
    "- commit 53ddfba68acc2816b5413c883b623e271084bcee (HEAD -> main)\n",
    "    - This string of characters and numbers is called the [**SHA**](htpps://en.wikipedia.org/wiki/SHA-1) - it's the unique ID generated by a hashing algorithm for this commit.\n",
    "    - (HEAD -> main): *HEAD*; \"where we are now\" is pointing at our local *main*\n",
    "    - (origin/main, origin/HEAD): this tells us that, on the origin (GitHub), GitHub's *HEAD* or \"current place\", is on our previous commit.\n",
    "    \n",
    "- This information tells us the *current status of our branches*."
   ]
  },
  {
   "cell_type": "markdown",
   "metadata": {},
   "source": [
    "## How to push up our first commit to Github"
   ]
  },
  {
   "cell_type": "code",
   "execution_count": 12,
   "metadata": {
    "tags": []
   },
   "outputs": [
    {
     "output_type": "stream",
     "name": "stdout",
     "text": "Enumerating objects: 4, done.\nCounting objects: 100% (4/4), done.\nDelta compression using up to 12 threads\nCompressing objects: 100% (2/2), done.\nWriting objects: 100% (3/3), 339 bytes | 339.00 KiB/s, done.\nTotal 3 (delta 0), reused 0 (delta 0)\nTo https://github.com/Hamidou16/practical-git.git\n   569e2be..53ddfba  main -> main\n"
    }
   ],
   "source": [
    "!git push origin main"
   ]
  },
  {
   "cell_type": "markdown",
   "metadata": {},
   "source": [
    "Here it shows us that we pushed our *main* branch to GitHub's *main* branch."
   ]
  },
  {
   "cell_type": "code",
   "execution_count": 13,
   "metadata": {
    "tags": []
   },
   "outputs": [
    {
     "output_type": "stream",
     "name": "stdout",
     "text": "\u001b[33mcommit 53ddfba68acc2816b5413c883b623e271084bcee\u001b[m\u001b[33m (\u001b[m\u001b[1;36mHEAD -> \u001b[m\u001b[1;32mmain\u001b[m\u001b[33m, \u001b[m\u001b[1;31morigin/main\u001b[m\u001b[33m, \u001b[m\u001b[1;31morigin/HEAD\u001b[m\u001b[33m)\u001b[m\nAuthor: KONATE HAMIDOU <hamidou.konate@ymail.com>\nDate:   Wed Apr 7 09:42:52 2021 +0900\n\n    New chapter 1 file with chapter heading\n\n\u001b[33mcommit 569e2bec0c75cb81d1de3425239ff463432e4133\u001b[m\nAuthor: KONATE HAMIDOU <hamidou.konate@ymail.com>\nDate:   Wed Apr 7 08:14:44 2021 +0900\n\n    Initial commit\n"
    }
   ],
   "source": [
    "!git log"
   ]
  },
  {
   "cell_type": "markdown",
   "metadata": {},
   "source": [
    "In short, on *origin* (GitHub) the *main* branch (also written as *origin/main) has now placed our new commit as the latest commit in the history."
   ]
  },
  {
   "cell_type": "markdown",
   "metadata": {},
   "source": [
    "## Add another commit in Git"
   ]
  },
  {
   "cell_type": "code",
   "execution_count": 14,
   "metadata": {},
   "outputs": [],
   "source": [
    "!echo \"It was the best of times, it was the worst of times\" >> chapter-1.txt"
   ]
  },
  {
   "cell_type": "code",
   "execution_count": 15,
   "metadata": {
    "tags": []
   },
   "outputs": [
    {
     "output_type": "stream",
     "name": "stdout",
     "text": "Chapter 1 - The Beginning\nIt was the best of times, it was the worst of times\n"
    }
   ],
   "source": [
    "!cat chapter-1.txt"
   ]
  },
  {
   "cell_type": "code",
   "execution_count": 16,
   "metadata": {
    "tags": []
   },
   "outputs": [
    {
     "output_type": "stream",
     "name": "stdout",
     "text": "On branch main\nYour branch is up to date with 'origin/main'.\n\nChanges to be committed:\n  (use \"git restore --staged <file>...\" to unstage)\n\t\u001b[32mnew file:   practical-git.ipynb\u001b[m\n\nChanges not staged for commit:\n  (use \"git add <file>...\" to update what will be committed)\n  (use \"git restore <file>...\" to discard changes in working directory)\n\t\u001b[31mmodified:   chapter-1.txt\u001b[m\n\n"
    }
   ],
   "source": [
    "!git status"
   ]
  },
  {
   "cell_type": "markdown",
   "metadata": {},
   "source": [
    "Git tells us that we have \"changes not staged for commit\".\n",
    "\n",
    "Before we can commit a set of changes, we first have to **stage** them."
   ]
  },
  {
   "cell_type": "markdown",
   "metadata": {},
   "source": [
    "## How to stage changes in Git\n",
    "\n",
    "Let's first stage our changes by using `git add`."
   ]
  },
  {
   "cell_type": "code",
   "execution_count": 17,
   "metadata": {},
   "outputs": [],
   "source": [
    "!git add ."
   ]
  },
  {
   "cell_type": "code",
   "execution_count": 18,
   "metadata": {
    "tags": []
   },
   "outputs": [
    {
     "output_type": "stream",
     "name": "stdout",
     "text": "On branch main\nYour branch is up to date with 'origin/main'.\n\nChanges to be committed:\n  (use \"git restore --staged <file>...\" to unstage)\n\t\u001b[32mmodified:   chapter-1.txt\u001b[m\n\t\u001b[32mnew file:   practical-git.ipynb\u001b[m\n\n"
    }
   ],
   "source": [
    "!git status "
   ]
  },
  {
   "cell_type": "markdown",
   "metadata": {},
   "source": [
    "These changes are now ready to be commited, but before we commit them let's add another change into our *chapter-1.txt* file.\n",
    "\n",
    "We are going to replace the contents of the file entirely."
   ]
  },
  {
   "cell_type": "code",
   "execution_count": 19,
   "metadata": {},
   "outputs": [],
   "source": [
    "!echo \"New file contents\" > chapter-1.txt"
   ]
  },
  {
   "cell_type": "code",
   "execution_count": 20,
   "metadata": {
    "tags": []
   },
   "outputs": [
    {
     "output_type": "stream",
     "name": "stdout",
     "text": "New file contents\n"
    }
   ],
   "source": [
    "!cat chapter-1.txt"
   ]
  },
  {
   "cell_type": "code",
   "execution_count": 21,
   "metadata": {
    "tags": []
   },
   "outputs": [
    {
     "output_type": "stream",
     "name": "stdout",
     "text": "On branch main\nYour branch is up to date with 'origin/main'.\n\nChanges to be committed:\n  (use \"git restore --staged <file>...\" to unstage)\n\t\u001b[32mmodified:   chapter-1.txt\u001b[m\n\t\u001b[32mnew file:   practical-git.ipynb\u001b[m\n\nChanges not staged for commit:\n  (use \"git add <file>...\" to update what will be committed)\n  (use \"git restore <file>...\" to discard changes in working directory)\n\t\u001b[31mmodified:   chapter-1.txt\u001b[m\n\n"
    }
   ],
   "source": [
    "!git status"
   ]
  },
  {
   "cell_type": "markdown",
   "metadata": {},
   "source": [
    "From the ouput we can see that we now have *staged changes*, and *not staged changes*.\n",
    "\n",
    "While the file itself can only contain one thing, Git keeps track of both changes for us."
   ]
  },
  {
   "cell_type": "markdown",
   "metadata": {},
   "source": [
    "## How to view the Git diff\n",
    "The command line way to do this is by using `git diff`."
   ]
  },
  {
   "cell_type": "code",
   "execution_count": 22,
   "metadata": {
    "tags": []
   },
   "outputs": [
    {
     "output_type": "stream",
     "name": "stdout",
     "text": "\u001b[1mdiff --git a/chapter-1.txt b/chapter-1.txt\u001b[m\n\u001b[1mindex 0450d87..4cbeaee 100644\u001b[m\n\u001b[1m--- a/chapter-1.txt\u001b[m\n\u001b[1m+++ b/chapter-1.txt\u001b[m\n\u001b[36m@@ -1,2 +1 @@\u001b[m\n\u001b[31m-Chapter 1 - The Beginning\u001b[m\n\u001b[31m-It was the best of times, it was the worst of times\u001b[m\n\u001b[32m+\u001b[m\u001b[32mNew file contents\u001b[m\n"
    }
   ],
   "source": [
    "!git diff"
   ]
  },
  {
   "cell_type": "markdown",
   "metadata": {},
   "source": [
    "The lines starting with `(-)` are lines we deleted entirely or in part, and the lines starting with `(+)` represent lines added entirely or in part.\n",
    "\n",
    "`git restore/git restore .` helps us to discard changes with the file path/the whole directory."
   ]
  },
  {
   "cell_type": "code",
   "execution_count": 23,
   "metadata": {},
   "outputs": [],
   "source": [
    "!git restore chapter-1.txt"
   ]
  },
  {
   "cell_type": "code",
   "execution_count": 25,
   "metadata": {
    "tags": []
   },
   "outputs": [
    {
     "output_type": "stream",
     "name": "stdout",
     "text": "On branch main\nYour branch is up to date with 'origin/main'.\n\nChanges to be committed:\n  (use \"git restore --staged <file>...\" to unstage)\n\t\u001b[32mmodified:   chapter-1.txt\u001b[m\n\t\u001b[32mnew file:   practical-git.ipynb\u001b[m\n\n"
    }
   ],
   "source": [
    "!git status"
   ]
  },
  {
   "cell_type": "code",
   "execution_count": 26,
   "metadata": {
    "tags": []
   },
   "outputs": [
    {
     "output_type": "stream",
     "name": "stdout",
     "text": "[main ec934b9] Added the intro line to chapter 1\n 1 file changed, 1 insertion(+)\n"
    }
   ],
   "source": [
    "!git commit -m \"Added the intro line to chapter 1\" chapter-1.txt"
   ]
  },
  {
   "cell_type": "code",
   "execution_count": 27,
   "metadata": {
    "tags": []
   },
   "outputs": [
    {
     "output_type": "stream",
     "name": "stdout",
     "text": "On branch main\nYour branch is ahead of 'origin/main' by 1 commit.\n  (use \"git push\" to publish your local commits)\n\nChanges to be committed:\n  (use \"git restore --staged <file>...\" to unstage)\n\t\u001b[32mnew file:   practical-git.ipynb\u001b[m\n\n"
    }
   ],
   "source": [
    "!git status"
   ]
  },
  {
   "cell_type": "markdown",
   "metadata": {},
   "source": [
    "## Collaborate with others in Git\n",
    "In reality, we'll usually be working with multiple people working on multiple different branches. This is the real power of Git: a system to collaborate and track changes over time amongst many collaborators."
   ]
  },
  {
   "cell_type": "markdown",
   "metadata": {},
   "source": [
    "Let's continue working as if we're the only person on the project, but let's adjust our workflow a little bit to prepare for when that's not the case.\n",
    "\n",
    "In general, it is best practice to *not work directly* on the `main` branch.\n",
    "\n",
    "Let's branch off of `main` into our own **feature branch**, and then **merge** those changes back into `main`."
   ]
  },
  {
   "cell_type": "markdown",
   "metadata": {},
   "source": [
    "## Features branches in Git\n",
    "- When we create a branch off of another branch, we create a copy of that branch *at that point in time*. We can now change this new branch independently of the original branch.\n",
    "\n",
    "- `git checkout` with `-b` flag enables us to create a branch and the name we want."
   ]
  },
  {
   "cell_type": "code",
   "execution_count": 28,
   "metadata": {
    "tags": []
   },
   "outputs": [
    {
     "output_type": "stream",
     "name": "stdout",
     "text": "Switched to a new branch 'chapter-2'\n"
    }
   ],
   "source": [
    "!git checkout -b chapter-2"
   ]
  },
  {
   "cell_type": "code",
   "execution_count": 29,
   "metadata": {},
   "outputs": [],
   "source": [
    "!touch chapter-2.txt"
   ]
  },
  {
   "cell_type": "code",
   "execution_count": 30,
   "metadata": {},
   "outputs": [],
   "source": [
    "!echo \"Chapter 2 - The next chapter\" >> chapter-2.txt"
   ]
  },
  {
   "cell_type": "code",
   "execution_count": 31,
   "metadata": {
    "tags": []
   },
   "outputs": [
    {
     "output_type": "stream",
     "name": "stdout",
     "text": "On branch chapter-2\nChanges to be committed:\n  (use \"git restore --staged <file>...\" to unstage)\n\t\u001b[32mnew file:   practical-git.ipynb\u001b[m\n\nChanges not staged for commit:\n  (use \"git add <file>...\" to update what will be committed)\n  (use \"git restore <file>...\" to discard changes in working directory)\n\t\u001b[31mmodified:   practical-git.ipynb\u001b[m\n\nUntracked files:\n  (use \"git add <file>...\" to include in what will be committed)\n\t\u001b[31mchapter-2.txt\u001b[m\n\n"
    }
   ],
   "source": [
    "!git status"
   ]
  },
  {
   "cell_type": "code",
   "execution_count": 32,
   "metadata": {},
   "outputs": [],
   "source": [
    "!git add ."
   ]
  },
  {
   "cell_type": "code",
   "execution_count": 33,
   "metadata": {
    "tags": []
   },
   "outputs": [
    {
     "output_type": "stream",
     "name": "stdout",
     "text": "[chapter-2 80de75f] Creates chapter 2 and adds the topic sentence\n 2 files changed, 670 insertions(+)\n create mode 100644 chapter-2.txt\n create mode 100644 practical-git.ipynb\n"
    }
   ],
   "source": [
    "!git commit -m \"Creates chapter 2 and adds the topic sentence\""
   ]
  },
  {
   "cell_type": "code",
   "execution_count": 34,
   "metadata": {
    "tags": []
   },
   "outputs": [
    {
     "output_type": "stream",
     "name": "stdout",
     "text": "On branch chapter-2\nnothing to commit, working tree clean\n"
    }
   ],
   "source": [
    "!git status"
   ]
  },
  {
   "cell_type": "code",
   "execution_count": 35,
   "metadata": {
    "tags": []
   },
   "outputs": [
    {
     "output_type": "stream",
     "name": "stdout",
     "text": "\u001b[33mcommit 80de75fc6cb540ab05c7f9587199b7ba6591d22e\u001b[m\u001b[33m (\u001b[m\u001b[1;36mHEAD -> \u001b[m\u001b[1;32mchapter-2\u001b[m\u001b[33m)\u001b[m\nAuthor: KONATE HAMIDOU <hamidou.konate@ymail.com>\nDate:   Wed Apr 7 11:08:12 2021 +0900\n\n    Creates chapter 2 and adds the topic sentence\n\n\u001b[33mcommit ec934b9f958f63b3a6065e54f2af539cfdb2fec0\u001b[m\u001b[33m (\u001b[m\u001b[1;32mmain\u001b[m\u001b[33m)\u001b[m\nAuthor: KONATE HAMIDOU <hamidou.konate@ymail.com>\nDate:   Wed Apr 7 10:53:01 2021 +0900\n\n    Added the intro line to chapter 1\n\n\u001b[33mcommit 53ddfba68acc2816b5413c883b623e271084bcee\u001b[m\u001b[33m (\u001b[m\u001b[1;31morigin/main\u001b[m\u001b[33m, \u001b[m\u001b[1;31morigin/HEAD\u001b[m\u001b[33m)\u001b[m\nAuthor: KONATE HAMIDOU <hamidou.konate@ymail.com>\nDate:   Wed Apr 7 09:42:52 2021 +0900\n\n    New chapter 1 file with chapter heading\n\n\u001b[33mcommit 569e2bec0c75cb81d1de3425239ff463432e4133\u001b[m\nAuthor: KONATE HAMIDOU <hamidou.konate@ymail.com>\nDate:   Wed Apr 7 08:14:44 2021 +0900\n\n    Initial commit\n"
    }
   ],
   "source": [
    "!git log"
   ]
  },
  {
   "cell_type": "markdown",
   "metadata": {},
   "source": [
    "## Git workflows for collaboration\n",
    "First, let's talk about a couple different workflows we could use:\n",
    "\n",
    "- **First one**:\n",
    "    - Merge changes from `chapter-2` into our local `main` branch\n",
    "    - Push local `main` branch to `origin/main`\n",
    "    \n",
    "- **Second way**:\n",
    "    - Push our local `chapter-2` branch to origin (this creates a new branch on `origin` called `origin/chapter-2`)\n",
    "    - Merge `origin/chapter-2` into `origin/main` on GitHub\n",
    "    - Pull down the new changes from `origin/main` into our local `main`"
   ]
  },
  {
   "cell_type": "markdown",
   "metadata": {},
   "source": [
    "- The first workflow is definitely easier, and it is something we would use if we were working on this project by ourself without any collaborators.\n",
    "\n",
    "- However, if I had collaborators, I wouldn't want to push directly to the *main* branch from my local. By doing so, I would be changing and taking control of the history of the project solely on my own changes - without any input or review from collaborators."
   ]
  },
  {
   "cell_type": "markdown",
   "metadata": {},
   "source": [
    "## How to merge a branch in Git"
   ]
  },
  {
   "cell_type": "code",
   "execution_count": 36,
   "metadata": {
    "tags": []
   },
   "outputs": [
    {
     "output_type": "stream",
     "name": "stdout",
     "text": "Switched to branch 'main'\nYour branch is ahead of 'origin/main' by 1 commit.\n  (use \"git push\" to publish your local commits)\n"
    }
   ],
   "source": [
    "!git checkout main"
   ]
  },
  {
   "cell_type": "code",
   "execution_count": 37,
   "metadata": {
    "tags": []
   },
   "outputs": [
    {
     "output_type": "stream",
     "name": "stdout",
     "text": "Enumerating objects: 5, done.\nCounting objects: 100% (5/5), done.\nDelta compression using up to 12 threads\nCompressing objects: 100% (3/3), done.\nWriting objects: 100% (3/3), 372 bytes | 372.00 KiB/s, done.\nTotal 3 (delta 0), reused 0 (delta 0)\nTo https://github.com/Hamidou16/practical-git.git\n   53ddfba..ec934b9  main -> main\n"
    }
   ],
   "source": [
    "!git push origin main"
   ]
  },
  {
   "cell_type": "code",
   "execution_count": 38,
   "metadata": {
    "tags": []
   },
   "outputs": [
    {
     "output_type": "stream",
     "name": "stdout",
     "text": "Already on 'main'\nYour branch is up to date with 'origin/main'.\n"
    }
   ],
   "source": [
    "!git checkout main"
   ]
  },
  {
   "cell_type": "markdown",
   "metadata": {},
   "source": [
    "Let's merge our *chapter-2* branch into *main*:"
   ]
  },
  {
   "cell_type": "code",
   "execution_count": 39,
   "metadata": {
    "tags": []
   },
   "outputs": [
    {
     "output_type": "stream",
     "name": "stdout",
     "text": "Updating ec934b9..80de75f\nFast-forward\n chapter-2.txt       |   1 \u001b[32m+\u001b[m\n practical-git.ipynb | 669 \u001b[32m++++++++++++++++++++++++++++++++++++++++++++++++++++\u001b[m\n 2 files changed, 670 insertions(+)\n create mode 100644 chapter-2.txt\n create mode 100644 practical-git.ipynb\n"
    }
   ],
   "source": [
    "!git merge chapter-2"
   ]
  },
  {
   "cell_type": "code",
   "execution_count": 40,
   "metadata": {
    "tags": []
   },
   "outputs": [
    {
     "output_type": "stream",
     "name": "stdout",
     "text": "\u001b[33mcommit 80de75fc6cb540ab05c7f9587199b7ba6591d22e\u001b[m\u001b[33m (\u001b[m\u001b[1;36mHEAD -> \u001b[m\u001b[1;32mmain\u001b[m\u001b[33m, \u001b[m\u001b[1;32mchapter-2\u001b[m\u001b[33m)\u001b[m\nAuthor: KONATE HAMIDOU <hamidou.konate@ymail.com>\nDate:   Wed Apr 7 11:08:12 2021 +0900\n\n    Creates chapter 2 and adds the topic sentence\n\n\u001b[33mcommit ec934b9f958f63b3a6065e54f2af539cfdb2fec0\u001b[m\u001b[33m (\u001b[m\u001b[1;31morigin/main\u001b[m\u001b[33m, \u001b[m\u001b[1;31morigin/HEAD\u001b[m\u001b[33m)\u001b[m\nAuthor: KONATE HAMIDOU <hamidou.konate@ymail.com>\nDate:   Wed Apr 7 10:53:01 2021 +0900\n\n    Added the intro line to chapter 1\n\n\u001b[33mcommit 53ddfba68acc2816b5413c883b623e271084bcee\u001b[m\nAuthor: KONATE HAMIDOU <hamidou.konate@ymail.com>\nDate:   Wed Apr 7 09:42:52 2021 +0900\n\n    New chapter 1 file with chapter heading\n\n\u001b[33mcommit 569e2bec0c75cb81d1de3425239ff463432e4133\u001b[m\nAuthor: KONATE HAMIDOU <hamidou.konate@ymail.com>\nDate:   Wed Apr 7 08:14:44 2021 +0900\n\n    Initial commit\n"
    }
   ],
   "source": [
    "!git log"
   ]
  },
  {
   "cell_type": "code",
   "execution_count": 41,
   "metadata": {
    "tags": []
   },
   "outputs": [
    {
     "output_type": "stream",
     "name": "stdout",
     "text": "Enumerating objects: 5, done.\nCounting objects: 100% (5/5), done.\nDelta compression using up to 12 threads\nCompressing objects: 100% (3/3), done.\nWriting objects: 100% (4/4), 3.69 KiB | 3.69 MiB/s, done.\nTotal 4 (delta 0), reused 0 (delta 0)\nTo https://github.com/Hamidou16/practical-git.git\n   ec934b9..80de75f  main -> main\n"
    }
   ],
   "source": [
    "!git push origin main"
   ]
  },
  {
   "cell_type": "code",
   "execution_count": 42,
   "metadata": {
    "tags": []
   },
   "outputs": [
    {
     "output_type": "stream",
     "name": "stdout",
     "text": "\u001b[33mcommit 80de75fc6cb540ab05c7f9587199b7ba6591d22e\u001b[m\u001b[33m (\u001b[m\u001b[1;36mHEAD -> \u001b[m\u001b[1;32mmain\u001b[m\u001b[33m, \u001b[m\u001b[1;31morigin/main\u001b[m\u001b[33m, \u001b[m\u001b[1;31morigin/HEAD\u001b[m\u001b[33m, \u001b[m\u001b[1;32mchapter-2\u001b[m\u001b[33m)\u001b[m\nAuthor: KONATE HAMIDOU <hamidou.konate@ymail.com>\nDate:   Wed Apr 7 11:08:12 2021 +0900\n\n    Creates chapter 2 and adds the topic sentence\n\n\u001b[33mcommit ec934b9f958f63b3a6065e54f2af539cfdb2fec0\u001b[m\nAuthor: KONATE HAMIDOU <hamidou.konate@ymail.com>\nDate:   Wed Apr 7 10:53:01 2021 +0900\n\n    Added the intro line to chapter 1\n\n\u001b[33mcommit 53ddfba68acc2816b5413c883b623e271084bcee\u001b[m\nAuthor: KONATE HAMIDOU <hamidou.konate@ymail.com>\nDate:   Wed Apr 7 09:42:52 2021 +0900\n\n    New chapter 1 file with chapter heading\n\n\u001b[33mcommit 569e2bec0c75cb81d1de3425239ff463432e4133\u001b[m\nAuthor: KONATE HAMIDOU <hamidou.konate@ymail.com>\nDate:   Wed Apr 7 08:14:44 2021 +0900\n\n    Initial commit\n"
    }
   ],
   "source": [
    "!git log"
   ]
  },
  {
   "cell_type": "markdown",
   "metadata": {},
   "source": [
    "We've successfully merge our `chapter-2` branch, and pushed that change up to GitHub!\n",
    "\n",
    "Let's delete the `chapter-2` feature branch as it has already been merged into `main`."
   ]
  },
  {
   "cell_type": "code",
   "execution_count": 43,
   "metadata": {
    "tags": []
   },
   "outputs": [
    {
     "output_type": "stream",
     "name": "stdout",
     "text": "Deleted branch chapter-2 (was 80de75f).\n"
    }
   ],
   "source": [
    "!git branch -d chapter-2"
   ]
  },
  {
   "cell_type": "markdown",
   "metadata": {},
   "source": [
    "## Pull request workflow\n",
    "To work through our collaboration workflow, let's repeat the same thing we've done with Chapter 1 & 2 on a new branch called *chapter-3*"
   ]
  },
  {
   "cell_type": "code",
   "execution_count": 44,
   "metadata": {
    "tags": []
   },
   "outputs": [
    {
     "output_type": "stream",
     "name": "stdout",
     "text": "Switched to a new branch 'chapter-3'\n"
    }
   ],
   "source": [
    "!git checkout -b chapter-3"
   ]
  },
  {
   "cell_type": "code",
   "execution_count": 45,
   "metadata": {},
   "outputs": [],
   "source": [
    "!touch chapter-3.txt\n",
    "!echo \"Chapter 3 - The End?\" >> chapter-3.txt"
   ]
  },
  {
   "cell_type": "code",
   "execution_count": 46,
   "metadata": {
    "tags": []
   },
   "outputs": [
    {
     "output_type": "stream",
     "name": "stdout",
     "text": "[chapter-3 274a37d] Adds Chapter 3\n 1 file changed, 1 insertion(+)\n create mode 100644 chapter-3.txt\n"
    }
   ],
   "source": [
    "!git add .\n",
    "!git commit -m \"Adds Chapter 3\" chapter-3.txt"
   ]
  },
  {
   "cell_type": "markdown",
   "metadata": {},
   "source": [
    "Let's review how we're going to get this new branch merged into `main` without acting directly on `main` ourselves:\n",
    "- Push our local `chapter-3` branch to origin (this creates a new branch on `origin` called `origin/chapter-3`)\n",
    "\n",
    "- Merge `origin/chapter-3` into `origin/main` on GitHub\n",
    "\n",
    "- Pull down the new changes from `origin/main` into our local `main`"
   ]
  },
  {
   "cell_type": "code",
   "execution_count": 47,
   "metadata": {
    "tags": []
   },
   "outputs": [
    {
     "output_type": "stream",
     "name": "stdout",
     "text": "Enumerating objects: 4, done.\nCounting objects: 100% (4/4), done.\nDelta compression using up to 12 threads\nCompressing objects: 100% (2/2), done.\nWriting objects: 100% (3/3), 310 bytes | 310.00 KiB/s, done.\nTotal 3 (delta 1), reused 0 (delta 0)\nremote: Resolving deltas: 100% (1/1), completed with 1 local object.\u001b[K\nremote: \nremote: Create a pull request for 'chapter-3' on GitHub by visiting:\u001b[K\nremote:      https://github.com/Hamidou16/practical-git/pull/new/chapter-3\u001b[K\nremote: \nTo https://github.com/Hamidou16/practical-git.git\n * [new branch]      chapter-3 -> chapter-3\n"
    }
   ],
   "source": [
    "!git push origin chapter-3"
   ]
  },
  {
   "cell_type": "markdown",
   "metadata": {},
   "source": [
    "> remote: Create a pull request for 'chapter-3' on GitHub by visiting:\n",
    "> remote:      https://github.com/Hamidou16/practical-git/pull/new/chapter-3\n",
    "\n",
    "Now we have our branch on GitHub, we can create a `pull request` to be reviewed by our teammates."
   ]
  },
  {
   "cell_type": "markdown",
   "metadata": {},
   "source": [
    "## How to bring our local up to date\n",
    "Now that we've made a change to `origin/main` in a safe, controlled, and peer-reviewed way:"
   ]
  },
  {
   "cell_type": "code",
   "execution_count": 48,
   "metadata": {
    "tags": []
   },
   "outputs": [
    {
     "output_type": "stream",
     "name": "stdout",
     "text": "\u001b[33mcommit 274a37d8868ed103ca3af39d74b813b7c769480c\u001b[m\u001b[33m (\u001b[m\u001b[1;36mHEAD -> \u001b[m\u001b[1;32mchapter-3\u001b[m\u001b[33m, \u001b[m\u001b[1;31morigin/chapter-3\u001b[m\u001b[33m)\u001b[m\nAuthor: KONATE HAMIDOU <hamidou.konate@ymail.com>\nDate:   Wed Apr 7 11:42:42 2021 +0900\n\n    Adds Chapter 3\n\n\u001b[33mcommit 80de75fc6cb540ab05c7f9587199b7ba6591d22e\u001b[m\u001b[33m (\u001b[m\u001b[1;31morigin/main\u001b[m\u001b[33m, \u001b[m\u001b[1;31morigin/HEAD\u001b[m\u001b[33m, \u001b[m\u001b[1;32mmain\u001b[m\u001b[33m)\u001b[m\nAuthor: KONATE HAMIDOU <hamidou.konate@ymail.com>\nDate:   Wed Apr 7 11:08:12 2021 +0900\n\n    Creates chapter 2 and adds the topic sentence\n\n\u001b[33mcommit ec934b9f958f63b3a6065e54f2af539cfdb2fec0\u001b[m\nAuthor: KONATE HAMIDOU <hamidou.konate@ymail.com>\nDate:   Wed Apr 7 10:53:01 2021 +0900\n\n    Added the intro line to chapter 1\n\n\u001b[33mcommit 53ddfba68acc2816b5413c883b623e271084bcee\u001b[m\nAuthor: KONATE HAMIDOU <hamidou.konate@ymail.com>\nDate:   Wed Apr 7 09:42:52 2021 +0900\n\n    New chapter 1 file with chapter heading\n\n\u001b[33mcommit 569e2bec0c75cb81d1de3425239ff463432e4133\u001b[m\nAuthor: KONATE HAMIDOU <hamidou.konate@ymail.com>\nDate:   Wed Apr 7 08:14:44 2021 +0900\n\n    Initial commit\n"
    }
   ],
   "source": [
    "!git log"
   ]
  },
  {
   "cell_type": "markdown",
   "metadata": {},
   "source": [
    "## How to retrieve remote data"
   ]
  },
  {
   "cell_type": "code",
   "execution_count": 49,
   "metadata": {
    "tags": []
   },
   "outputs": [
    {
     "output_type": "stream",
     "name": "stdout",
     "text": "Switched to branch 'main'\nYour branch is up to date with 'origin/main'.\n"
    }
   ],
   "source": [
    "!git checkout main"
   ]
  },
  {
   "cell_type": "code",
   "execution_count": 50,
   "metadata": {
    "tags": []
   },
   "outputs": [
    {
     "output_type": "stream",
     "name": "stdout",
     "text": "remote: Enumerating objects: 1, done.\u001b[K\nremote: Counting objects: 100% (1/1), done.\u001b[K\nremote: Total 1 (delta 0), reused 0 (delta 0), pack-reused 0\u001b[K\nUnpacking objects: 100% (1/1), done.\nFrom https://github.com/Hamidou16/practical-git\n   80de75f..70d4024  main       -> origin/main\n"
    }
   ],
   "source": [
    "!git fetch"
   ]
  },
  {
   "cell_type": "code",
   "execution_count": 51,
   "metadata": {
    "tags": []
   },
   "outputs": [
    {
     "output_type": "stream",
     "name": "stdout",
     "text": "On branch main\nYour branch is behind 'origin/main' by 2 commits, and can be fast-forwarded.\n  (use \"git pull\" to update your local branch)\n\nnothing to commit, working tree clean\n"
    }
   ],
   "source": [
    "!git status"
   ]
  },
  {
   "cell_type": "markdown",
   "metadata": {},
   "source": [
    "Our local now knows that our local `main` is behind `origin/main` by 2 commits (the commit from the `chapter-3 branch and the PR merge commit)."
   ]
  },
  {
   "cell_type": "code",
   "execution_count": 52,
   "metadata": {
    "tags": []
   },
   "outputs": [
    {
     "output_type": "stream",
     "name": "stdout",
     "text": "From https://github.com/Hamidou16/practical-git\n * branch            main       -> FETCH_HEAD\nUpdating 80de75f..70d4024\nFast-forward\n chapter-3.txt | 1 \u001b[32m+\u001b[m\n 1 file changed, 1 insertion(+)\n create mode 100644 chapter-3.txt\n"
    }
   ],
   "source": [
    "!git pull origin main"
   ]
  },
  {
   "cell_type": "markdown",
   "metadata": {},
   "source": [
    "- `git pull` command is actually a shorthand for `git fetch` followed by `git merge`.\n",
    "\n",
    "- `git fetch` doesn't apply any changes locally, it can be useful to use `git fetch` to see if our branches are up to date with the remote."
   ]
  },
  {
   "cell_type": "code",
   "execution_count": 79,
   "metadata": {},
   "outputs": [],
   "source": [
    "!git add ."
   ]
  },
  {
   "cell_type": "code",
   "execution_count": 80,
   "metadata": {
    "tags": []
   },
   "outputs": [
    {
     "output_type": "stream",
     "name": "stdout",
     "text": "On branch chapter-3-collaboration\nYour branch is up to date with 'origin/chapter-3-collaboration'.\n\nChanges to be committed:\n  (use \"git restore --staged <file>...\" to unstage)\n\t\u001b[32mmodified:   practical-git.ipynb\u001b[m\n\n"
    }
   ],
   "source": [
    "!git status"
   ]
  },
  {
   "cell_type": "code",
   "execution_count": null,
   "metadata": {},
   "outputs": [],
   "source": []
  },
  {
   "cell_type": "code",
   "execution_count": null,
   "metadata": {},
   "outputs": [],
   "source": []
  },
  {
   "cell_type": "code",
   "execution_count": null,
   "metadata": {},
   "outputs": [],
   "source": []
  },
  {
   "cell_type": "code",
   "execution_count": null,
   "metadata": {},
   "outputs": [],
   "source": []
  },
  {
   "cell_type": "code",
   "execution_count": null,
   "metadata": {},
   "outputs": [],
   "source": []
  }
 ],
 "metadata": {
  "language_info": {
   "codemirror_mode": {
    "name": "ipython",
    "version": 3
   },
   "file_extension": ".py",
   "mimetype": "text/x-python",
   "name": "python",
   "nbconvert_exporter": "python",
   "pygments_lexer": "ipython3",
   "version": "3.7.7-final"
  },
  "orig_nbformat": 2,
  "kernelspec": {
   "name": "python37764bitbaseconda2422fe58ade442088346d5fbfdf8f71e",
   "display_name": "Python 3.7.7 64-bit ('base': conda)"
  }
 },
 "nbformat": 4,
 "nbformat_minor": 2
}