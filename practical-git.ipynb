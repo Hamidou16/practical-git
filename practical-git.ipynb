{
 "cells": [
  {
   "cell_type": "markdown",
   "metadata": {},
   "source": [
    "# How to use Git and Git Workflows"
   ]
  },
  {
   "cell_type": "markdown",
   "metadata": {},
   "source": [
    "## How to install Git and set up a Github account\n",
    "\n",
    "- [install Git](https://git-scm.com/book/en/v2/Getting-Started-Installing-Git)\n",
    "\n",
    "- Sign up for a [Github account](https://github.com/join)"
   ]
  },
  {
   "cell_type": "markdown",
   "metadata": {},
   "source": [
    "## Create a new repository in Github\n",
    "\n",
    "- Create a new repository in Github.\n",
    "\n",
    "- Just click \"New\" repository button on your home page.\n",
    "\n",
    "- Next, choose a name for the repository and whether you want the repo to be public or private.\n",
    "\n",
    "- You can additionally add a README file if you'd like, and then click \"Create repository\"."
   ]
  },
  {
   "cell_type": "markdown",
   "metadata": {},
   "source": [
    "## Clone a Git repository\n",
    "\n",
    "- To clone a repo, we use `git clone <URL>`"
   ]
  },
  {
   "cell_type": "code",
   "execution_count": 1,
   "metadata": {
    "tags": []
   },
   "outputs": [
    {
     "output_type": "stream",
     "name": "stdout",
     "text": "Cloning into 'practical-git'...\nremote: Enumerating objects: 3, done.\u001b[K\nremote: Counting objects: 100% (3/3), done.\u001b[K\nremote: Total 3 (delta 0), reused 0 (delta 0), pack-reused 0\u001b[K\nUnpacking objects: 100% (3/3), done.\n"
    }
   ],
   "source": [
    "!git clone https://github.com/Hamidou16/practical-git.git"
   ]
  },
  {
   "cell_type": "markdown",
   "metadata": {},
   "source": [
    "## Check the status of a Git project"
   ]
  },
  {
   "cell_type": "code",
   "execution_count": 1,
   "metadata": {
    "tags": []
   },
   "outputs": [
    {
     "output_type": "stream",
     "name": "stdout",
     "text": "On branch main\nYour branch is up to date with 'origin/main'.\n\nUntracked files:\n  (use \"git add <file>...\" to include in what will be committed)\n\t\u001b[31mpractical-git.ipynb\u001b[m\n\nnothing added to commit but untracked files present (use \"git add\" to track)\n"
    }
   ],
   "source": [
    "!git status"
   ]
  },
  {
   "cell_type": "markdown",
   "metadata": {},
   "source": [
    "## Git branches\n",
    "\n",
    "- The `main` means that we are currently on a **branch** called *main*\n",
    "    - `origin` is a concept known as a **remote**\n",
    "\n",
    "- In this project, we have our local copy of the project, we can also add remote sources that we can collaborate with. After all, that is one of the beiggest benefits of Git: **controlled collaboration with others.\n",
    "\n",
    "- In this case, GitHub is our \"origin\":\n",
    "    - By running `git remote -v`, we list all our remotes."
   ]
  },
  {
   "cell_type": "code",
   "execution_count": 2,
   "metadata": {
    "tags": []
   },
   "outputs": [
    {
     "output_type": "stream",
     "name": "stdout",
     "text": "origin\thttps://github.com/Hamidou16/practical-git.git (fetch)\norigin\thttps://github.com/Hamidou16/practical-git.git (push)\n"
    }
   ],
   "source": [
    "!git remote -v "
   ]
  },
  {
   "cell_type": "markdown",
   "metadata": {},
   "source": [
    "## Our first commit\n",
    "\n",
    "Let's make a new file called *chapter-1.txt* and insert a sentence into it."
   ]
  },
  {
   "cell_type": "code",
   "execution_count": 3,
   "metadata": {},
   "outputs": [],
   "source": [
    "!touch chapter-1.txt"
   ]
  },
  {
   "cell_type": "code",
   "execution_count": 4,
   "metadata": {},
   "outputs": [],
   "source": [
    "!echo \"Chapter 1 - The Beginning\" >> chapter-1.txt"
   ]
  },
  {
   "cell_type": "code",
   "execution_count": 5,
   "metadata": {
    "tags": []
   },
   "outputs": [
    {
     "output_type": "stream",
     "name": "stdout",
     "text": "Chapter 1 - The Beginning\n"
    }
   ],
   "source": [
    "!cat chapter-1.txt"
   ]
  },
  {
   "cell_type": "code",
   "execution_count": 6,
   "metadata": {
    "tags": []
   },
   "outputs": [
    {
     "output_type": "stream",
     "name": "stdout",
     "text": "On branch main\nYour branch is up to date with 'origin/main'.\n\nUntracked files:\n  (use \"git add <file>...\" to include in what will be committed)\n\t\u001b[31mchapter-1.txt\u001b[m\n\t\u001b[31mpractical-git.ipynb\u001b[m\n\nnothing added to commit but untracked files present (use \"git add\" to track)\n"
    }
   ],
   "source": [
    "!git status"
   ]
  },
  {
   "cell_type": "markdown",
   "metadata": {},
   "source": [
    "Before Git will start tracking changes to a file we first have to tell Git to track it.\n",
    "\n",
    "We can use `git add`."
   ]
  },
  {
   "cell_type": "code",
   "execution_count": 7,
   "metadata": {},
   "outputs": [],
   "source": [
    "!git add . "
   ]
  },
  {
   "cell_type": "code",
   "execution_count": 8,
   "metadata": {
    "tags": []
   },
   "outputs": [
    {
     "output_type": "stream",
     "name": "stdout",
     "text": "On branch main\nYour branch is up to date with 'origin/main'.\n\nChanges to be committed:\n  (use \"git restore --staged <file>...\" to unstage)\n\t\u001b[32mnew file:   chapter-1.txt\u001b[m\n\t\u001b[32mnew file:   practical-git.ipynb\u001b[m\n\n"
    }
   ],
   "source": [
    "!git status"
   ]
  },
  {
   "cell_type": "markdown",
   "metadata": {},
   "source": [
    "It now says that we have some changes that are ready to be \"commited\".\n",
    "\n",
    "A **commit** in Git is a saved chunk of work. We can think of a commit as a *completed idea or unit of work*."
   ]
  },
  {
   "cell_type": "code",
   "execution_count": 9,
   "metadata": {
    "tags": []
   },
   "outputs": [
    {
     "output_type": "stream",
     "name": "stdout",
     "text": "[main 53ddfba] New chapter 1 file with chapter heading\n 1 file changed, 1 insertion(+)\n create mode 100644 chapter-1.txt\n"
    }
   ],
   "source": [
    "!git commit -m \"New chapter 1 file with chapter heading\" chapter-1.txt"
   ]
  },
  {
   "cell_type": "code",
   "execution_count": 10,
   "metadata": {
    "tags": []
   },
   "outputs": [
    {
     "output_type": "stream",
     "name": "stdout",
     "text": "On branch main\nYour branch is ahead of 'origin/main' by 1 commit.\n  (use \"git push\" to publish your local commits)\n\nChanges to be committed:\n  (use \"git restore --staged <file>...\" to unstage)\n\t\u001b[32mnew file:   practical-git.ipynb\u001b[m\n\n"
    }
   ],
   "source": [
    "!git status"
   ]
  },
  {
   "cell_type": "markdown",
   "metadata": {},
   "source": [
    "We've now committed that chunk of work, and we can see that by reviewing the Git log via `git log`."
   ]
  },
  {
   "cell_type": "code",
   "execution_count": 11,
   "metadata": {
    "tags": []
   },
   "outputs": [
    {
     "output_type": "stream",
     "name": "stdout",
     "text": "\u001b[33mcommit 53ddfba68acc2816b5413c883b623e271084bcee\u001b[m\u001b[33m (\u001b[m\u001b[1;36mHEAD -> \u001b[m\u001b[1;32mmain\u001b[m\u001b[33m)\u001b[m\nAuthor: KONATE HAMIDOU <hamidou.konate@ymail.com>\nDate:   Wed Apr 7 09:42:52 2021 +0900\n\n    New chapter 1 file with chapter heading\n\n\u001b[33mcommit 569e2bec0c75cb81d1de3425239ff463432e4133\u001b[m\u001b[33m (\u001b[m\u001b[1;31morigin/main\u001b[m\u001b[33m, \u001b[m\u001b[1;31morigin/HEAD\u001b[m\u001b[33m)\u001b[m\nAuthor: KONATE HAMIDOU <hamidou.konate@ymail.com>\nDate:   Wed Apr 7 08:14:44 2021 +0900\n\n    Initial commit\n"
    }
   ],
   "source": [
    "!git log"
   ]
  },
  {
   "cell_type": "markdown",
   "metadata": {},
   "source": [
    "- The latest commit is the one we just made.\n",
    "- The previous one is when I initialized the project"
   ]
  },
  {
   "cell_type": "markdown",
   "metadata": {},
   "source": [
    "- commit 53ddfba68acc2816b5413c883b623e271084bcee (HEAD -> main)\n",
    "    - This string of characters and numbers is called the [**SHA**](htpps://en.wikipedia.org/wiki/SHA-1) - it's the unique ID generated by a hashing algorithm for this commit.\n",
    "    - (HEAD -> main): *HEAD*; \"where we are now\" is pointing at our local *main*\n",
    "    - (origin/main, origin/HEAD): this tells us that, on the origin (GitHub), GitHub's *HEAD* or \"current place\", is on our previous commit.\n",
    "    \n",
    "- This information tells us the *current status of our branches*."
   ]
  },
  {
   "cell_type": "markdown",
   "metadata": {},
   "source": [
    "## How to push up our first commit to Github"
   ]
  },
  {
   "cell_type": "code",
   "execution_count": 12,
   "metadata": {
    "tags": []
   },
   "outputs": [
    {
     "output_type": "stream",
     "name": "stdout",
     "text": "Enumerating objects: 4, done.\nCounting objects: 100% (4/4), done.\nDelta compression using up to 12 threads\nCompressing objects: 100% (2/2), done.\nWriting objects: 100% (3/3), 339 bytes | 339.00 KiB/s, done.\nTotal 3 (delta 0), reused 0 (delta 0)\nTo https://github.com/Hamidou16/practical-git.git\n   569e2be..53ddfba  main -> main\n"
    }
   ],
   "source": [
    "!git push origin main"
   ]
  },
  {
   "cell_type": "markdown",
   "metadata": {},
   "source": [
    "Here it shows us that we pushed our *main* branch to GitHub's *main* branch."
   ]
  },
  {
   "cell_type": "code",
   "execution_count": 13,
   "metadata": {
    "tags": []
   },
   "outputs": [
    {
     "output_type": "stream",
     "name": "stdout",
     "text": "\u001b[33mcommit 53ddfba68acc2816b5413c883b623e271084bcee\u001b[m\u001b[33m (\u001b[m\u001b[1;36mHEAD -> \u001b[m\u001b[1;32mmain\u001b[m\u001b[33m, \u001b[m\u001b[1;31morigin/main\u001b[m\u001b[33m, \u001b[m\u001b[1;31morigin/HEAD\u001b[m\u001b[33m)\u001b[m\nAuthor: KONATE HAMIDOU <hamidou.konate@ymail.com>\nDate:   Wed Apr 7 09:42:52 2021 +0900\n\n    New chapter 1 file with chapter heading\n\n\u001b[33mcommit 569e2bec0c75cb81d1de3425239ff463432e4133\u001b[m\nAuthor: KONATE HAMIDOU <hamidou.konate@ymail.com>\nDate:   Wed Apr 7 08:14:44 2021 +0900\n\n    Initial commit\n"
    }
   ],
   "source": [
    "!git log"
   ]
  },
  {
   "cell_type": "markdown",
   "metadata": {},
   "source": [
    "In short, on *origin* (GitHub) the *main* branch (also written as *origin/main) has now placed our new commit as the latest commit in the history."
   ]
  },
  {
   "cell_type": "markdown",
   "metadata": {},
   "source": [
    "## Add another commit in Git"
   ]
  },
  {
   "cell_type": "code",
   "execution_count": 14,
   "metadata": {},
   "outputs": [],
   "source": [
    "!echo \"It was the best of times, it was the worst of times\" >> chapter-1.txt"
   ]
  },
  {
   "cell_type": "code",
   "execution_count": 15,
   "metadata": {
    "tags": []
   },
   "outputs": [
    {
     "output_type": "stream",
     "name": "stdout",
     "text": "Chapter 1 - The Beginning\nIt was the best of times, it was the worst of times\n"
    }
   ],
   "source": [
    "!cat chapter-1.txt"
   ]
  },
  {
   "cell_type": "code",
   "execution_count": 16,
   "metadata": {
    "tags": []
   },
   "outputs": [
    {
     "output_type": "stream",
     "name": "stdout",
     "text": "On branch main\nYour branch is up to date with 'origin/main'.\n\nChanges to be committed:\n  (use \"git restore --staged <file>...\" to unstage)\n\t\u001b[32mnew file:   practical-git.ipynb\u001b[m\n\nChanges not staged for commit:\n  (use \"git add <file>...\" to update what will be committed)\n  (use \"git restore <file>...\" to discard changes in working directory)\n\t\u001b[31mmodified:   chapter-1.txt\u001b[m\n\n"
    }
   ],
   "source": [
    "!git status"
   ]
  },
  {
   "cell_type": "markdown",
   "metadata": {},
   "source": [
    "Git tells us that we have \"changes not staged for commit\".\n",
    "\n",
    "Before we can commit a set of changes, we first have to **stage** them."
   ]
  },
  {
   "cell_type": "markdown",
   "metadata": {},
   "source": [
    "## How to stage changes in Git\n",
    "\n",
    "Let's first stage our changes by using `git add`."
   ]
  },
  {
   "cell_type": "code",
   "execution_count": 17,
   "metadata": {},
   "outputs": [],
   "source": [
    "!git add ."
   ]
  },
  {
   "cell_type": "code",
   "execution_count": 18,
   "metadata": {
    "tags": []
   },
   "outputs": [
    {
     "output_type": "stream",
     "name": "stdout",
     "text": "On branch main\nYour branch is up to date with 'origin/main'.\n\nChanges to be committed:\n  (use \"git restore --staged <file>...\" to unstage)\n\t\u001b[32mmodified:   chapter-1.txt\u001b[m\n\t\u001b[32mnew file:   practical-git.ipynb\u001b[m\n\n"
    }
   ],
   "source": [
    "!git status "
   ]
  },
  {
   "cell_type": "markdown",
   "metadata": {},
   "source": [
    "These changes are now ready to be commited, but before we commit them let's add another change into our *chapter-1.txt* file.\n",
    "\n",
    "We are going to replace the contents of the file entirely."
   ]
  },
  {
   "cell_type": "code",
   "execution_count": 19,
   "metadata": {},
   "outputs": [],
   "source": [
    "!echo \"New file contents\" > chapter-1.txt"
   ]
  },
  {
   "cell_type": "code",
   "execution_count": 20,
   "metadata": {
    "tags": []
   },
   "outputs": [
    {
     "output_type": "stream",
     "name": "stdout",
     "text": "New file contents\n"
    }
   ],
   "source": [
    "!cat chapter-1.txt"
   ]
  },
  {
   "cell_type": "code",
   "execution_count": 21,
   "metadata": {
    "tags": []
   },
   "outputs": [
    {
     "output_type": "stream",
     "name": "stdout",
     "text": "On branch main\nYour branch is up to date with 'origin/main'.\n\nChanges to be committed:\n  (use \"git restore --staged <file>...\" to unstage)\n\t\u001b[32mmodified:   chapter-1.txt\u001b[m\n\t\u001b[32mnew file:   practical-git.ipynb\u001b[m\n\nChanges not staged for commit:\n  (use \"git add <file>...\" to update what will be committed)\n  (use \"git restore <file>...\" to discard changes in working directory)\n\t\u001b[31mmodified:   chapter-1.txt\u001b[m\n\n"
    }
   ],
   "source": [
    "!git status"
   ]
  },
  {
   "cell_type": "markdown",
   "metadata": {},
   "source": [
    "From the ouput we can see that we now have *staged changes*, and *not staged changes*.\n",
    "\n",
    "While the file itself can only contain one thing, Git keeps track of both changes for us."
   ]
  },
  {
   "cell_type": "markdown",
   "metadata": {},
   "source": [
    "## How to view the Git diff\n",
    "The command line way to do this is by using `git diff`."
   ]
  },
  {
   "cell_type": "code",
   "execution_count": 22,
   "metadata": {
    "tags": []
   },
   "outputs": [
    {
     "output_type": "stream",
     "name": "stdout",
     "text": "\u001b[1mdiff --git a/chapter-1.txt b/chapter-1.txt\u001b[m\n\u001b[1mindex 0450d87..4cbeaee 100644\u001b[m\n\u001b[1m--- a/chapter-1.txt\u001b[m\n\u001b[1m+++ b/chapter-1.txt\u001b[m\n\u001b[36m@@ -1,2 +1 @@\u001b[m\n\u001b[31m-Chapter 1 - The Beginning\u001b[m\n\u001b[31m-It was the best of times, it was the worst of times\u001b[m\n\u001b[32m+\u001b[m\u001b[32mNew file contents\u001b[m\n"
    }
   ],
   "source": [
    "!git diff"
   ]
  },
  {
   "cell_type": "markdown",
   "metadata": {},
   "source": [
    "The lines starting with `(-)` are lines we deleted entirely or in part, and the lines starting with `(+)` represent lines added entirely or in part.\n",
    "\n",
    "`git restore/git restore .` helps us to discard changes with the file path/the whole directory."
   ]
  },
  {
   "cell_type": "code",
   "execution_count": 23,
   "metadata": {},
   "outputs": [],
   "source": [
    "!git restore chapter-1.txt"
   ]
  },
  {
   "cell_type": "code",
   "execution_count": 25,
   "metadata": {
    "tags": []
   },
   "outputs": [
    {
     "output_type": "stream",
     "name": "stdout",
     "text": "On branch main\nYour branch is up to date with 'origin/main'.\n\nChanges to be committed:\n  (use \"git restore --staged <file>...\" to unstage)\n\t\u001b[32mmodified:   chapter-1.txt\u001b[m\n\t\u001b[32mnew file:   practical-git.ipynb\u001b[m\n\n"
    }
   ],
   "source": [
    "!git status"
   ]
  },
  {
   "cell_type": "code",
   "execution_count": 26,
   "metadata": {
    "tags": []
   },
   "outputs": [
    {
     "output_type": "stream",
     "name": "stdout",
     "text": "[main ec934b9] Added the intro line to chapter 1\n 1 file changed, 1 insertion(+)\n"
    }
   ],
   "source": [
    "!git commit -m \"Added the intro line to chapter 1\" chapter-1.txt"
   ]
  },
  {
   "cell_type": "code",
   "execution_count": 27,
   "metadata": {
    "tags": []
   },
   "outputs": [
    {
     "output_type": "stream",
     "name": "stdout",
     "text": "On branch main\nYour branch is ahead of 'origin/main' by 1 commit.\n  (use \"git push\" to publish your local commits)\n\nChanges to be committed:\n  (use \"git restore --staged <file>...\" to unstage)\n\t\u001b[32mnew file:   practical-git.ipynb\u001b[m\n\n"
    }
   ],
   "source": [
    "!git status"
   ]
  },
  {
   "cell_type": "code",
   "execution_count": null,
   "metadata": {},
   "outputs": [],
   "source": []
  },
  {
   "cell_type": "code",
   "execution_count": null,
   "metadata": {},
   "outputs": [],
   "source": []
  },
  {
   "cell_type": "code",
   "execution_count": null,
   "metadata": {},
   "outputs": [],
   "source": []
  },
  {
   "cell_type": "code",
   "execution_count": null,
   "metadata": {},
   "outputs": [],
   "source": []
  },
  {
   "cell_type": "code",
   "execution_count": null,
   "metadata": {},
   "outputs": [],
   "source": []
  },
  {
   "cell_type": "code",
   "execution_count": null,
   "metadata": {},
   "outputs": [],
   "source": []
  }
 ],
 "metadata": {
  "language_info": {
   "codemirror_mode": {
    "name": "ipython",
    "version": 3
   },
   "file_extension": ".py",
   "mimetype": "text/x-python",
   "name": "python",
   "nbconvert_exporter": "python",
   "pygments_lexer": "ipython3",
   "version": "3.7.7-final"
  },
  "orig_nbformat": 2,
  "kernelspec": {
   "name": "python37764bitbaseconda2422fe58ade442088346d5fbfdf8f71e",
   "display_name": "Python 3.7.7 64-bit ('base': conda)"
  }
 },
 "nbformat": 4,
 "nbformat_minor": 2
}